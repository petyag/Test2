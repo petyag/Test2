%matplotlib inline

from ipywidgets import interact, interactive
import ipywidgets as widgets

from IPython.display import clear_output, display, HTML

from numpy import array,zeros,arange,copy,convolve,sqrt,sin,cos   #,array,ones,append
import matplotlib.pyplot as plt
plt.rc('figure', figsize=(10, 6))

def PlotAll(Coeff=1.0, Amplitude=1.0):

    a = -6
    b = 6
    n = 200
    x = arange(a,b,(b-a)/n)
    
    fig = plt.figure(1)

#    plt.plot(x,sin(v*x), 'b', lw=4, label='sin(vx)')
    plt.plot(x,Amplitude*sin(Coeff*x), 'b', lw=4, label=str(Amplitude)+'sin('+str(Coeff)+'x)')
    plt.plot(x,cos(x), 'r', lw=4, label='cos(x)')
    plt.axhline(lw=2, color=(.5,.5,.5)) # xmin=a, xmax=b, 
    plt.axvline(lw=2, color=(.5,.5,.5)) # ymin=-Amplitude, ymax=Amplitude, 
    plt.minorticks_on()
    plt.grid(True,which='major',ls='-',alpha=.25)  #,lw=.1
    plt.grid(True,which='minor',ls='-',alpha=.1)    #,lw=1
    #plt.title('Test',weight='bold')
    #plt.xlabel('x')
    #plt.ylabel('y')
    plt.legend(loc=1).get_frame().set_alpha(0.8)  # loc='best'
    plt.show()  # for default

#PlotAll(1)

w = interactive(PlotAll, Coeff=(0.1,5.0), Amplitude=(0.1,2.0))
display(w)
